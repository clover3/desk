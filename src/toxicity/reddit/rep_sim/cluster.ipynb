{
 "cells": [
  {
   "cell_type": "code",
   "execution_count": null,
   "id": "c8f5df6529b23642",
   "metadata": {
    "collapsed": false
   },
   "outputs": [],
   "source": [
    "\n",
    "\n",
    "from transformers import BertTokenizer, BertModel\n",
    "import torch\n",
    "from chair.list_lib import left, right\n",
    "from toxicity.io_helper import read_csv\n",
    "from toxicity.path_helper import get_model_save_path\n",
    "from toxicity.reddit.path_helper import get_reddit_train_data_path\n",
    "\n",
    "def get_device():\n",
    "    return \"cuda\" if torch.cuda.is_available() else \"cpu\"\n",
    "\n",
    "\n",
    "subreddit = \"TwoXChromosomes\"\n",
    "model_path = get_model_save_path(f\"bert_{subreddit}\")  # Adjust this to your model's path\n",
    "data = read_csv(get_reddit_train_data_path(subreddit, \"train\"))\n",
    "texts = left(data)\n",
    "labels = right(data)\n",
    "model = BertModel.from_pretrained(model_path)\n",
    "model.to(get_device())\n",
    "\n",
    "tokenizer = BertTokenizer.from_pretrained(model_path)\n",
    "model.eval()"
   ]
  },
  {
   "cell_type": "code",
   "execution_count": null,
   "outputs": [],
   "source": [
    "\n",
    "from toxicity.reddit.rep_sim.get_sent_rep import get_bert_representations\n",
    "\n",
    "cls_reps, pooled_reps = get_bert_representations(model, tokenizer, texts)"
   ],
   "metadata": {
    "collapsed": false
   },
   "id": "d8e5532c345acdd4"
  },
  {
   "cell_type": "code",
   "execution_count": null,
   "outputs": [],
   "source": [
    "\n",
    "print(\"CLS Token Representations Shape:\", cls_reps.shape)\n",
    "print(\"Pooled Representations Shape:\", pooled_reps.shape)\n",
    "#"
   ],
   "metadata": {
    "collapsed": true
   },
   "id": "initial_id"
  }
 ],
 "metadata": {
  "kernelspec": {
   "display_name": "Python 3",
   "language": "python",
   "name": "python3"
  },
  "language_info": {
   "codemirror_mode": {
    "name": "ipython",
    "version": 2
   },
   "file_extension": ".py",
   "mimetype": "text/x-python",
   "name": "python",
   "nbconvert_exporter": "python",
   "pygments_lexer": "ipython2",
   "version": "2.7.6"
  }
 },
 "nbformat": 4,
 "nbformat_minor": 5
}
