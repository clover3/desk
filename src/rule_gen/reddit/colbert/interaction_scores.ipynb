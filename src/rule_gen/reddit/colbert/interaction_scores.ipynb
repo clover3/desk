{
 "cells": [
  {
   "cell_type": "code",
   "execution_count": null,
   "id": "ce85f7f2b67dd405",
   "metadata": {
    "collapsed": false
   },
   "outputs": [],
   "source": [
    "import os\n",
    "\n",
    "from rule_gen.reddit.colbert.modeling import ColBertForSequenceClassification\n",
    "os.environ[\"TOKENIZERS_PARALLELISM\"] = \"true\""
   ]
  },
  {
   "cell_type": "code",
   "execution_count": null,
   "outputs": [],
   "source": [
    "import torch\n",
    "from transformers import AutoTokenizer\n",
    "from typing import Dict\n",
    "\n",
    "def initialize_model(model_path: str) -> tuple:\n",
    "    device = 'cuda' if torch.cuda.is_available() else 'cpu'\n",
    "    \n",
    "    base_model = 'bert-base-uncased'\n",
    "    tokenizer = AutoTokenizer.from_pretrained(base_model)\n",
    "    model = ColBertForSequenceClassification.from_pretrained(model_path)\n",
    "    model.colbert_set_up(tokenizer)\n",
    "    model.to(device)\n",
    "    model.eval()\n",
    "    \n",
    "    return tokenizer, model, device\n",
    "\n",
    "def preprocess_texts(\n",
    "    query: str,\n",
    "    document: str,\n",
    "    tokenizer: AutoTokenizer,\n",
    "    device: str,\n",
    "    max_length: int = 512\n",
    ") -> Dict:\n",
    "    query_encoding = tokenizer(\n",
    "        query,\n",
    "        padding='max_length',\n",
    "        truncation=True,\n",
    "        max_length=max_length,\n",
    "        return_tensors='pt'\n",
    "    )\n",
    "\n",
    "    doc_encoding = tokenizer(\n",
    "        document,\n",
    "        padding='max_length',\n",
    "        truncation=True,\n",
    "        max_length=max_length,\n",
    "        return_tensors='pt'\n",
    "    )\n",
    "\n",
    "    return {\n",
    "        'query_input_ids': query_encoding['input_ids'].to(device),\n",
    "        'query_attention_mask': query_encoding['attention_mask'].to(device),\n",
    "        'doc_input_ids': doc_encoding['input_ids'].to(device),\n",
    "        'doc_attention_mask': doc_encoding['attention_mask'].to(device)\n",
    "    }\n",
    "\n",
    "def predict_relevance(\n",
    "    query: str,\n",
    "    document: str,\n",
    "    model: ColBertForSequenceClassification,\n",
    "    tokenizer: AutoTokenizer,\n",
    "    device: str,\n",
    "    max_length: int = 512\n",
    ") -> float:\n",
    "    inputs = preprocess_texts(query, document, tokenizer, device, max_length)\n",
    "    \n",
    "    with torch.no_grad():\n",
    "        outputs = model(**inputs)\n",
    "        scores = torch.sigmoid(outputs.logits).cpu().numpy()\n",
    "        return float(scores[0][0])"
   ],
   "metadata": {
    "collapsed": false
   },
   "id": "adfffd96e52ad92d"
  },
  {
   "cell_type": "code",
   "execution_count": null,
   "outputs": [],
   "source": [],
   "metadata": {
    "collapsed": false
   },
   "id": "9d8c6ec6ef47f801"
  },
  {
   "cell_type": "code",
   "execution_count": null,
   "outputs": [],
   "source": [
    "from desk_util.path_helper import get_model_save_path\n",
    "model_name = \"col1-name\"\n",
    "model_path = get_model_save_path(model_name)\n",
    "tokenizer, model, device = initialize_model(model_path)\n",
    "\n",
    "# Make predictions\n",
    "score = predict_relevance(\n",
    "    query=\"example query\",\n",
    "    document=\"example document\",\n",
    "    model=model,\n",
    "    tokenizer=tokenizer,\n",
    "    device=device\n",
    ")"
   ],
   "metadata": {
    "collapsed": true
   },
   "id": "initial_id"
  }
 ],
 "metadata": {
  "kernelspec": {
   "display_name": "Python 3",
   "language": "python",
   "name": "python3"
  },
  "language_info": {
   "codemirror_mode": {
    "name": "ipython",
    "version": 2
   },
   "file_extension": ".py",
   "mimetype": "text/x-python",
   "name": "python",
   "nbconvert_exporter": "python",
   "pygments_lexer": "ipython2",
   "version": "2.7.6"
  }
 },
 "nbformat": 4,
 "nbformat_minor": 5
}
